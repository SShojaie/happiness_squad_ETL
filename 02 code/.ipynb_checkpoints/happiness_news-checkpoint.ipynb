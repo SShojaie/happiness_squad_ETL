{
 "cells": [
  {
   "cell_type": "code",
   "execution_count": 14,
   "metadata": {},
   "outputs": [],
   "source": [
    "# Dependencies\n",
    "from bs4 import BeautifulSoup as bs\n",
    "import requests\n",
    "import os\n",
    "import time\n",
    "from pprint import pprint\n",
    "from splinter import Browser\n",
    "import pandas as pd\n",
    "import urllib.request as rq\n",
    "import lxml.etree as et\n",
    "import re"
   ]
  },
  {
   "cell_type": "code",
   "execution_count": 15,
   "metadata": {},
   "outputs": [],
   "source": [
    "executable_path = {'executable_path': 'chromedriver.exe'}\n",
    "browser = Browser('chrome', **executable_path, headless=False)"
   ]
  },
  {
   "cell_type": "code",
   "execution_count": 16,
   "metadata": {},
   "outputs": [],
   "source": [
    "# Retrieve page with the global news URL\n",
    "browser.visit('https://globalnews.ca/tag/happiness/')"
   ]
  },
  {
   "cell_type": "code",
   "execution_count": 17,
   "metadata": {},
   "outputs": [],
   "source": [
    "html = browser.html\n",
    "soup = bs(html, 'html.parser')"
   ]
  },
  {
   "cell_type": "code",
   "execution_count": 18,
   "metadata": {},
   "outputs": [],
   "source": [
    "news_dict = []\n",
    "news = soup.find_all('li', class_=\"c-posts__item c-posts__loadmore\")\n",
    "for i in range (5):\n",
    "    news_title = news[i].find('span', class_=\"c-posts__headlineText\").text\n",
    "    news_excerpt = news[i].find('div', class_=\"u-lineClamp\").text.strip()\n",
    "    news_date = news[i].find('div', class_=\"c-posts__info\").text\n",
    "    \n",
    "    article_dict = {\"news_title\": news_title,   \n",
    "                    \"news_excerpt\":news_excerpt,\n",
    "                    \"news_date\":news_date}            \n",
    "    news_dict.append(article_dict)    "
   ]
  },
  {
   "cell_type": "code",
   "execution_count": 19,
   "metadata": {},
   "outputs": [
    {
     "data": {
      "text/plain": [
       "10"
      ]
     },
     "execution_count": 19,
     "metadata": {},
     "output_type": "execute_result"
    }
   ],
   "source": [
    "len(news)"
   ]
  },
  {
   "cell_type": "code",
   "execution_count": 20,
   "metadata": {},
   "outputs": [
    {
     "data": {
      "text/plain": [
       "[{'news_title': 'More Canadians report being happier after age 55, a new survey suggests',\n",
       "  'news_excerpt': 'The study asked Canadians to rate their level of happiness on a scale of one to 10.',\n",
       "  'news_date': 'Jun 24, 2019'},\n",
       " {'news_title': 'Canada slips spots on annual World Happiness Index, Finland takes 1st',\n",
       "  'news_excerpt': 'Canada has fallen two spots on an annual ranking of global happiness — but remains in the top 10.',\n",
       "  'news_date': 'Mar 20, 2019'},\n",
       " {'news_title': 'Does the pursuit of happiness actually make you happy?',\n",
       "  'news_excerpt': 'Constantly chasing happiness can actually make you sadder, psychologists say.',\n",
       "  'news_date': 'Jan 27, 2019'},\n",
       " {'news_title': 'How to beat the winter blues, according to a ‘happiness doctor’',\n",
       "  'news_excerpt': 'It\\'s no wonder the third Monday of January is called \"Blue Monday,\" commonly known as the most depressing day of the year.',\n",
       "  'news_date': 'Jan 16, 2019'},\n",
       " {'news_title': 'Sorry city dwellers, Canadians are happier living in small towns: report',\n",
       "  'news_excerpt': 'Researchers at McGill University and the Vancouver School of Economics have some bad news for Canadians living in big cities.',\n",
       "  'news_date': 'May 18, 2018'}]"
      ]
     },
     "execution_count": 20,
     "metadata": {},
     "output_type": "execute_result"
    }
   ],
   "source": [
    "news_dict"
   ]
  },
  {
   "cell_type": "code",
   "execution_count": 26,
   "metadata": {},
   "outputs": [
    {
     "data": {
      "text/html": [
       "<div>\n",
       "<style scoped>\n",
       "    .dataframe tbody tr th:only-of-type {\n",
       "        vertical-align: middle;\n",
       "    }\n",
       "\n",
       "    .dataframe tbody tr th {\n",
       "        vertical-align: top;\n",
       "    }\n",
       "\n",
       "    .dataframe thead th {\n",
       "        text-align: right;\n",
       "    }\n",
       "</style>\n",
       "<table border=\"1\" class=\"dataframe\">\n",
       "  <thead>\n",
       "    <tr style=\"text-align: right;\">\n",
       "      <th></th>\n",
       "      <th>news_title</th>\n",
       "      <th>news_excerpt</th>\n",
       "      <th>news_date</th>\n",
       "    </tr>\n",
       "  </thead>\n",
       "  <tbody>\n",
       "    <tr>\n",
       "      <th>0</th>\n",
       "      <td>More Canadians report being happier after age ...</td>\n",
       "      <td>The study asked Canadians to rate their level ...</td>\n",
       "      <td>Jun 24, 2019</td>\n",
       "    </tr>\n",
       "    <tr>\n",
       "      <th>1</th>\n",
       "      <td>Canada slips spots on annual World Happiness I...</td>\n",
       "      <td>Canada has fallen two spots on an annual ranki...</td>\n",
       "      <td>Mar 20, 2019</td>\n",
       "    </tr>\n",
       "    <tr>\n",
       "      <th>2</th>\n",
       "      <td>Does the pursuit of happiness actually make yo...</td>\n",
       "      <td>Constantly chasing happiness can actually make...</td>\n",
       "      <td>Jan 27, 2019</td>\n",
       "    </tr>\n",
       "    <tr>\n",
       "      <th>3</th>\n",
       "      <td>How to beat the winter blues, according to a ‘...</td>\n",
       "      <td>It's no wonder the third Monday of January is ...</td>\n",
       "      <td>Jan 16, 2019</td>\n",
       "    </tr>\n",
       "    <tr>\n",
       "      <th>4</th>\n",
       "      <td>Sorry city dwellers, Canadians are happier liv...</td>\n",
       "      <td>Researchers at McGill University and the Vanco...</td>\n",
       "      <td>May 18, 2018</td>\n",
       "    </tr>\n",
       "  </tbody>\n",
       "</table>\n",
       "</div>"
      ],
      "text/plain": [
       "                                          news_title  \\\n",
       "0  More Canadians report being happier after age ...   \n",
       "1  Canada slips spots on annual World Happiness I...   \n",
       "2  Does the pursuit of happiness actually make yo...   \n",
       "3  How to beat the winter blues, according to a ‘...   \n",
       "4  Sorry city dwellers, Canadians are happier liv...   \n",
       "\n",
       "                                        news_excerpt     news_date  \n",
       "0  The study asked Canadians to rate their level ...  Jun 24, 2019  \n",
       "1  Canada has fallen two spots on an annual ranki...  Mar 20, 2019  \n",
       "2  Constantly chasing happiness can actually make...  Jan 27, 2019  \n",
       "3  It's no wonder the third Monday of January is ...  Jan 16, 2019  \n",
       "4  Researchers at McGill University and the Vanco...  May 18, 2018  "
      ]
     },
     "execution_count": 26,
     "metadata": {},
     "output_type": "execute_result"
    }
   ],
   "source": [
    "news_dict_df = pd.DataFrame(news_dict)\n",
    "news_dict_df.head()"
   ]
  },
  {
   "cell_type": "code",
   "execution_count": 27,
   "metadata": {},
   "outputs": [
    {
     "data": {
      "text/plain": [
       "10"
      ]
     },
     "execution_count": 27,
     "metadata": {},
     "output_type": "execute_result"
    }
   ],
   "source": [
    "news1 = soup.find_all('li', class_=\"c-posts__item c-posts__loadmore\")\n",
    "len(news1)"
   ]
  },
  {
   "cell_type": "code",
   "execution_count": 28,
   "metadata": {},
   "outputs": [],
   "source": [
    "#create database connection and load database\n",
    "from sqlalchemy import create_engine\n",
    "connection_string = \"postgres:1234@localhost:5432/happiness001_db\"\n",
    "engine = create_engine(f'postgresql://{connection_string}')"
   ]
  },
  {
   "cell_type": "code",
   "execution_count": 29,
   "metadata": {},
   "outputs": [
    {
     "data": {
      "text/plain": [
       "['leisure',\n",
       " 'living_standards',\n",
       " 'time_use',\n",
       " 'environment',\n",
       " 'life_domain',\n",
       " 'happiness_news',\n",
       " 'ciw_summary',\n",
       " 'education',\n",
       " 'healthy_pop',\n",
       " 'comm_vitality',\n",
       " 'democratic_engagement']"
      ]
     },
     "execution_count": 29,
     "metadata": {},
     "output_type": "execute_result"
    }
   ],
   "source": [
    "#table name check\n",
    "engine.table_names()"
   ]
  },
  {
   "cell_type": "code",
   "execution_count": 30,
   "metadata": {},
   "outputs": [],
   "source": [
    "#Load database table\n",
    "news_dict_df.to_sql(name='happiness_news', con=engine, if_exists='append', index=True)"
   ]
  },
  {
   "cell_type": "code",
   "execution_count": null,
   "metadata": {},
   "outputs": [],
   "source": []
  }
 ],
 "metadata": {
  "kernelspec": {
   "display_name": "Python 3",
   "language": "python",
   "name": "python3"
  },
  "language_info": {
   "codemirror_mode": {
    "name": "ipython",
    "version": 3
   },
   "file_extension": ".py",
   "mimetype": "text/x-python",
   "name": "python",
   "nbconvert_exporter": "python",
   "pygments_lexer": "ipython3",
   "version": "3.7.6"
  },
  "varInspector": {
   "cols": {
    "lenName": 16,
    "lenType": 16,
    "lenVar": 40
   },
   "kernels_config": {
    "python": {
     "delete_cmd_postfix": "",
     "delete_cmd_prefix": "del ",
     "library": "var_list.py",
     "varRefreshCmd": "print(var_dic_list())"
    },
    "r": {
     "delete_cmd_postfix": ") ",
     "delete_cmd_prefix": "rm(",
     "library": "var_list.r",
     "varRefreshCmd": "cat(var_dic_list()) "
    }
   },
   "types_to_exclude": [
    "module",
    "function",
    "builtin_function_or_method",
    "instance",
    "_Feature"
   ],
   "window_display": false
  }
 },
 "nbformat": 4,
 "nbformat_minor": 2
}
