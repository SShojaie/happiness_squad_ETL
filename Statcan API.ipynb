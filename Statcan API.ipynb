{
 "cells": [
  {
   "cell_type": "code",
   "execution_count": 60,
   "metadata": {},
   "outputs": [],
   "source": [
    "import requests\n",
    "import pprint"
   ]
  },
  {
   "cell_type": "code",
   "execution_count": 61,
   "metadata": {},
   "outputs": [],
   "source": [
    "#1 The first step is to look for relevant table. In this case it is actually faster to paste the URL to chrome and do search function.\n",
    "#URL is 'https://www150.statcan.gc.ca/t1/wds/rest/getAllCubesListLite'\n",
    "\n",
    "#2. We found that the table we want is \"Average satisfaction with life and with selected domains of life by age group and sex\"\n",
    "#3. What's important is the productId, which is be used for downloading the CSV.\n",
    "#4. Product id is 13100106\n",
    "#5. The next thing to do is to call the download method.\n",
    "#https://www150.statcan.gc.ca/t1/wds/rest/getFullTableDownloadCSV/{product_id}/en"
   ]
  },
  {
   "cell_type": "code",
   "execution_count": 62,
   "metadata": {},
   "outputs": [
    {
     "name": "stdout",
     "output_type": "stream",
     "text": [
      "{'status': 'SUCCESS', 'object': 'https://www150.statcan.gc.ca/n1/tbl/csv/13100106-eng.zip'}\n"
     ]
    }
   ],
   "source": [
    "#Apply the GetFullTable Method\n",
    "product_id = 13100106\n",
    "download_path = f\"https://www150.statcan.gc.ca/t1/wds/rest/getFullTableDownloadCSV/{product_id}/en\"\n",
    "response = requests.get(download_path)\n",
    "table = response.json()\n",
    "print(table)"
   ]
  },
  {
   "cell_type": "code",
   "execution_count": 63,
   "metadata": {},
   "outputs": [
    {
     "name": "stdout",
     "output_type": "stream",
     "text": [
      "https://www150.statcan.gc.ca/n1/tbl/csv/13100106-eng.zip\n"
     ]
    }
   ],
   "source": [
    "#get download path\n",
    "download_url = table[\"object\"]\n",
    "print(download_url)"
   ]
  },
  {
   "cell_type": "code",
   "execution_count": 64,
   "metadata": {},
   "outputs": [
    {
     "data": {
      "text/plain": [
       "'13100106-eng.zip'"
      ]
     },
     "execution_count": 64,
     "metadata": {},
     "output_type": "execute_result"
    }
   ],
   "source": [
    "#Capture the file name with regex\n",
    "import re\n",
    "\n",
    "split= download_url.split(\"/csv/\")\n",
    "file_name = split[1]\n",
    "\n",
    "file_name"
   ]
  },
  {
   "cell_type": "code",
   "execution_count": 65,
   "metadata": {},
   "outputs": [
    {
     "data": {
      "text/plain": [
       "42335"
      ]
     },
     "execution_count": 65,
     "metadata": {},
     "output_type": "execute_result"
    }
   ],
   "source": [
    "# Create request to download...\n",
    "r = requests.get(download_url, allow_redirects=True)\n",
    "\n",
    "open(file_name, 'wb').write(r.content)"
   ]
  },
  {
   "cell_type": "code",
   "execution_count": 66,
   "metadata": {},
   "outputs": [],
   "source": [
    "#because the data is in zip format, use python to unzip it\n",
    "from zipfile import ZipFile\n",
    "\n",
    "with ZipFile(file_name, 'r') as zipObj:\n",
    "   # Extract all the contents of zip file in current directory\n",
    "   zipObj.extractall()"
   ]
  },
  {
   "cell_type": "code",
   "execution_count": 67,
   "metadata": {},
   "outputs": [
    {
     "data": {
      "text/html": [
       "<div>\n",
       "<style scoped>\n",
       "    .dataframe tbody tr th:only-of-type {\n",
       "        vertical-align: middle;\n",
       "    }\n",
       "\n",
       "    .dataframe tbody tr th {\n",
       "        vertical-align: top;\n",
       "    }\n",
       "\n",
       "    .dataframe thead th {\n",
       "        text-align: right;\n",
       "    }\n",
       "</style>\n",
       "<table border=\"1\" class=\"dataframe\">\n",
       "  <thead>\n",
       "    <tr style=\"text-align: right;\">\n",
       "      <th></th>\n",
       "      <th>REF_DATE</th>\n",
       "      <th>GEO</th>\n",
       "      <th>DGUID</th>\n",
       "      <th>Age group</th>\n",
       "      <th>Sex</th>\n",
       "      <th>Satisfaction with life and with selected domains of life</th>\n",
       "      <th>UOM</th>\n",
       "      <th>UOM_ID</th>\n",
       "      <th>SCALAR_FACTOR</th>\n",
       "      <th>SCALAR_ID</th>\n",
       "      <th>VECTOR</th>\n",
       "      <th>COORDINATE</th>\n",
       "      <th>VALUE</th>\n",
       "      <th>STATUS</th>\n",
       "      <th>SYMBOL</th>\n",
       "      <th>TERMINATED</th>\n",
       "      <th>DECIMALS</th>\n",
       "    </tr>\n",
       "  </thead>\n",
       "  <tbody>\n",
       "    <tr>\n",
       "      <th>0</th>\n",
       "      <td>2016</td>\n",
       "      <td>Canada</td>\n",
       "      <td>2016A000011124</td>\n",
       "      <td>Total, 15 years and over</td>\n",
       "      <td>Both sexes</td>\n",
       "      <td>Life as a whole</td>\n",
       "      <td>Number</td>\n",
       "      <td>223</td>\n",
       "      <td>units</td>\n",
       "      <td>0</td>\n",
       "      <td>v119128399</td>\n",
       "      <td>1.1.1.1</td>\n",
       "      <td>7.9</td>\n",
       "      <td>NaN</td>\n",
       "      <td>NaN</td>\n",
       "      <td>NaN</td>\n",
       "      <td>1</td>\n",
       "    </tr>\n",
       "    <tr>\n",
       "      <th>1</th>\n",
       "      <td>2016</td>\n",
       "      <td>Canada</td>\n",
       "      <td>2016A000011124</td>\n",
       "      <td>Total, 15 years and over</td>\n",
       "      <td>Both sexes</td>\n",
       "      <td>Standard of living</td>\n",
       "      <td>Number</td>\n",
       "      <td>223</td>\n",
       "      <td>units</td>\n",
       "      <td>0</td>\n",
       "      <td>v119128400</td>\n",
       "      <td>1.1.1.2</td>\n",
       "      <td>7.7</td>\n",
       "      <td>NaN</td>\n",
       "      <td>NaN</td>\n",
       "      <td>NaN</td>\n",
       "      <td>1</td>\n",
       "    </tr>\n",
       "    <tr>\n",
       "      <th>2</th>\n",
       "      <td>2016</td>\n",
       "      <td>Canada</td>\n",
       "      <td>2016A000011124</td>\n",
       "      <td>Total, 15 years and over</td>\n",
       "      <td>Both sexes</td>\n",
       "      <td>Health</td>\n",
       "      <td>Number</td>\n",
       "      <td>223</td>\n",
       "      <td>units</td>\n",
       "      <td>0</td>\n",
       "      <td>v119128401</td>\n",
       "      <td>1.1.1.3</td>\n",
       "      <td>7.4</td>\n",
       "      <td>NaN</td>\n",
       "      <td>NaN</td>\n",
       "      <td>NaN</td>\n",
       "      <td>1</td>\n",
       "    </tr>\n",
       "    <tr>\n",
       "      <th>3</th>\n",
       "      <td>2016</td>\n",
       "      <td>Canada</td>\n",
       "      <td>2016A000011124</td>\n",
       "      <td>Total, 15 years and over</td>\n",
       "      <td>Both sexes</td>\n",
       "      <td>Achievement in life</td>\n",
       "      <td>Number</td>\n",
       "      <td>223</td>\n",
       "      <td>units</td>\n",
       "      <td>0</td>\n",
       "      <td>v119128402</td>\n",
       "      <td>1.1.1.4</td>\n",
       "      <td>7.4</td>\n",
       "      <td>NaN</td>\n",
       "      <td>NaN</td>\n",
       "      <td>NaN</td>\n",
       "      <td>1</td>\n",
       "    </tr>\n",
       "    <tr>\n",
       "      <th>4</th>\n",
       "      <td>2016</td>\n",
       "      <td>Canada</td>\n",
       "      <td>2016A000011124</td>\n",
       "      <td>Total, 15 years and over</td>\n",
       "      <td>Both sexes</td>\n",
       "      <td>Personal relationships</td>\n",
       "      <td>Number</td>\n",
       "      <td>223</td>\n",
       "      <td>units</td>\n",
       "      <td>0</td>\n",
       "      <td>v119128403</td>\n",
       "      <td>1.1.1.5</td>\n",
       "      <td>7.9</td>\n",
       "      <td>NaN</td>\n",
       "      <td>NaN</td>\n",
       "      <td>NaN</td>\n",
       "      <td>1</td>\n",
       "    </tr>\n",
       "  </tbody>\n",
       "</table>\n",
       "</div>"
      ],
      "text/plain": [
       "   REF_DATE     GEO           DGUID                 Age group         Sex  \\\n",
       "0      2016  Canada  2016A000011124  Total, 15 years and over  Both sexes   \n",
       "1      2016  Canada  2016A000011124  Total, 15 years and over  Both sexes   \n",
       "2      2016  Canada  2016A000011124  Total, 15 years and over  Both sexes   \n",
       "3      2016  Canada  2016A000011124  Total, 15 years and over  Both sexes   \n",
       "4      2016  Canada  2016A000011124  Total, 15 years and over  Both sexes   \n",
       "\n",
       "  Satisfaction with life and with selected domains of life     UOM  UOM_ID  \\\n",
       "0                                    Life as a whole        Number     223   \n",
       "1                                 Standard of living        Number     223   \n",
       "2                                             Health        Number     223   \n",
       "3                                Achievement in life        Number     223   \n",
       "4                             Personal relationships        Number     223   \n",
       "\n",
       "  SCALAR_FACTOR  SCALAR_ID      VECTOR COORDINATE  VALUE  STATUS  SYMBOL  \\\n",
       "0        units           0  v119128399    1.1.1.1    7.9     NaN     NaN   \n",
       "1        units           0  v119128400    1.1.1.2    7.7     NaN     NaN   \n",
       "2        units           0  v119128401    1.1.1.3    7.4     NaN     NaN   \n",
       "3        units           0  v119128402    1.1.1.4    7.4     NaN     NaN   \n",
       "4        units           0  v119128403    1.1.1.5    7.9     NaN     NaN   \n",
       "\n",
       "   TERMINATED  DECIMALS  \n",
       "0         NaN         1  \n",
       "1         NaN         1  \n",
       "2         NaN         1  \n",
       "3         NaN         1  \n",
       "4         NaN         1  "
      ]
     },
     "execution_count": 67,
     "metadata": {},
     "output_type": "execute_result"
    }
   ],
   "source": [
    "# clean the data, get the columns we want\n",
    "import pandas as pd\n",
    "df = pd.read_csv(\"13100106.csv\")\n",
    "\n",
    "df.head()"
   ]
  },
  {
   "cell_type": "code",
   "execution_count": 68,
   "metadata": {},
   "outputs": [],
   "source": [
    "#extract the columns we want\n",
    "\n",
    "df = df[[\"Age group\",\"Sex\",\"Satisfaction with life and with selected domains of life\",\"VALUE\"]]\n",
    "df.drop_duplicates(keep = \"first\", inplace = True)\n",
    "df.dropna(inplace= True)"
   ]
  },
  {
   "cell_type": "code",
   "execution_count": 69,
   "metadata": {},
   "outputs": [],
   "source": [
    "#transform data extracted"
   ]
  },
  {
   "cell_type": "code",
   "execution_count": 70,
   "metadata": {},
   "outputs": [],
   "source": [
    "df = df.rename(columns = {'Satisfaction with life and with selected domains of life':'LIFE_DOMAIN','Age group':'AGE_GROUP'})\n",
    "df = df.rename(columns={'AGE_GROUP':'age_group', 'Sex':'sex', 'LIFE_DOMAIN':'life_domain', 'VALUE':'value'})"
   ]
  },
  {
   "cell_type": "code",
   "execution_count": 71,
   "metadata": {},
   "outputs": [
    {
     "data": {
      "text/html": [
       "<div>\n",
       "<style scoped>\n",
       "    .dataframe tbody tr th:only-of-type {\n",
       "        vertical-align: middle;\n",
       "    }\n",
       "\n",
       "    .dataframe tbody tr th {\n",
       "        vertical-align: top;\n",
       "    }\n",
       "\n",
       "    .dataframe thead th {\n",
       "        text-align: right;\n",
       "    }\n",
       "</style>\n",
       "<table border=\"1\" class=\"dataframe\">\n",
       "  <thead>\n",
       "    <tr style=\"text-align: right;\">\n",
       "      <th></th>\n",
       "      <th>age_group</th>\n",
       "      <th>sex</th>\n",
       "      <th>life_domain</th>\n",
       "      <th>value</th>\n",
       "    </tr>\n",
       "  </thead>\n",
       "  <tbody>\n",
       "    <tr>\n",
       "      <th>0</th>\n",
       "      <td>Total, 15 years and over</td>\n",
       "      <td>Both sexes</td>\n",
       "      <td>Life as a whole</td>\n",
       "      <td>7.9</td>\n",
       "    </tr>\n",
       "    <tr>\n",
       "      <th>1</th>\n",
       "      <td>Total, 15 years and over</td>\n",
       "      <td>Both sexes</td>\n",
       "      <td>Standard of living</td>\n",
       "      <td>7.7</td>\n",
       "    </tr>\n",
       "    <tr>\n",
       "      <th>2</th>\n",
       "      <td>Total, 15 years and over</td>\n",
       "      <td>Both sexes</td>\n",
       "      <td>Health</td>\n",
       "      <td>7.4</td>\n",
       "    </tr>\n",
       "    <tr>\n",
       "      <th>3</th>\n",
       "      <td>Total, 15 years and over</td>\n",
       "      <td>Both sexes</td>\n",
       "      <td>Achievement in life</td>\n",
       "      <td>7.4</td>\n",
       "    </tr>\n",
       "    <tr>\n",
       "      <th>4</th>\n",
       "      <td>Total, 15 years and over</td>\n",
       "      <td>Both sexes</td>\n",
       "      <td>Personal relationships</td>\n",
       "      <td>7.9</td>\n",
       "    </tr>\n",
       "  </tbody>\n",
       "</table>\n",
       "</div>"
      ],
      "text/plain": [
       "                  age_group         sex             life_domain  value\n",
       "0  Total, 15 years and over  Both sexes         Life as a whole    7.9\n",
       "1  Total, 15 years and over  Both sexes      Standard of living    7.7\n",
       "2  Total, 15 years and over  Both sexes                  Health    7.4\n",
       "3  Total, 15 years and over  Both sexes     Achievement in life    7.4\n",
       "4  Total, 15 years and over  Both sexes  Personal relationships    7.9"
      ]
     },
     "execution_count": 71,
     "metadata": {},
     "output_type": "execute_result"
    }
   ],
   "source": [
    "\n",
    "df.head()"
   ]
  },
  {
   "cell_type": "code",
   "execution_count": 52,
   "metadata": {},
   "outputs": [],
   "source": [
    "df.to_csv('Output/statcan_csv.csv')"
   ]
  },
  {
   "cell_type": "code",
   "execution_count": 53,
   "metadata": {},
   "outputs": [],
   "source": [
    "#create database connection and load database\n",
    "from sqlalchemy import create_engine\n",
    "connection_string = \"postgres:1234@localhost:5432/happiness001_db\"\n",
    "engine = create_engine(f'postgresql://{connection_string}')"
   ]
  },
  {
   "cell_type": "code",
   "execution_count": 72,
   "metadata": {},
   "outputs": [
    {
     "data": {
      "text/plain": [
       "['gdp_change',\n",
       " 'education',\n",
       " 'healthy_pop',\n",
       " 'comm_vitality',\n",
       " 'democratic_engagement',\n",
       " 'living_standards',\n",
       " 'time_use',\n",
       " 'environment',\n",
       " 'leisure',\n",
       " 'happiness_news',\n",
       " 'life_domain']"
      ]
     },
     "execution_count": 72,
     "metadata": {},
     "output_type": "execute_result"
    }
   ],
   "source": [
    "engine.table_names()"
   ]
  },
  {
   "cell_type": "code",
   "execution_count": 73,
   "metadata": {},
   "outputs": [],
   "source": [
    "df.to_sql(name='life_domain', con=engine, if_exists='append', index=True)"
   ]
  }
 ],
 "metadata": {
  "kernelspec": {
   "display_name": "Python 3",
   "language": "python",
   "name": "python3"
  },
  "language_info": {
   "codemirror_mode": {
    "name": "ipython",
    "version": 3
   },
   "file_extension": ".py",
   "mimetype": "text/x-python",
   "name": "python",
   "nbconvert_exporter": "python",
   "pygments_lexer": "ipython3",
   "version": "3.7.6"
  }
 },
 "nbformat": 4,
 "nbformat_minor": 2
}
